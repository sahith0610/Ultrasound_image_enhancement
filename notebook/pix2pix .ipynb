{
 "cells": [
  {
   "cell_type": "code",
   "execution_count": null,
   "id": "840ff038",
   "metadata": {},
   "outputs": [
    {
     "name": "stdout",
     "output_type": "stream",
     "text": [
      "Domain A files: 622\n",
      "Domain B files: 622\n",
      "Total matched pairs: 622\n",
      "Train: 498, Val: 62, Test: 62\n",
      "Train A batch shapes: torch.Size([8, 1, 256, 256]) torch.Size([8, 1, 256, 256])\n"
     ]
    }
   ],
   "source": [
    "import os\n",
    "import glob\n",
    "from PIL import Image\n",
    "from tqdm import tqdm\n",
    "from torchvision import transforms\n",
    "from torch.utils.data import Dataset, DataLoader, random_split\n",
    "\n",
    "class Ultrasounddataset(Dataset):\n",
    "    def __init__(self, root_dir_A, root_dir_B, transform=None, exts=(\"png\",\"jpg\",\"jpeg\")):\n",
    "        self.paths_A = sorted(sum((glob.glob(f\"{root_dir_A}/**/*.{ext}\", recursive=True) for ext in exts), []))\n",
    "        self.paths_B = sorted(sum((glob.glob(f\"{root_dir_B}/**/*.{ext}\", recursive=True) for ext in exts), []))\n",
    "        self.transform = transform\n",
    "\n",
    "        self.map_A = {os.path.basename(p): p for p in self.paths_A}\n",
    "        self.map_B = {os.path.basename(p): p for p in self.paths_B}\n",
    "\n",
    "        self.common = sorted(set(self.map_A.keys()) & set(self.map_B.keys()))\n",
    "        if len(self.common) == 0:\n",
    "            raise ValueError(f\"No matching filenames found between\\n  {root_dir_A}\\nand\\n  {root_dir_B}\")\n",
    "\n",
    "    def __len__(self):\n",
    "        return len(self.common)\n",
    "\n",
    "    def __getitem__(self, idx):\n",
    "        name = self.common[idx]\n",
    "        img_A = Image.open(self.map_A[name]).convert(\"L\")\n",
    "        img_B = Image.open(self.map_B[name]).convert(\"L\")\n",
    "        if self.transform:\n",
    "            img_A = self.transform(img_A)\n",
    "            img_B = self.transform(img_B)\n",
    "        return {\"A\": img_A, \"B\": img_B}\n",
    "\n",
    "if __name__ == \"__main__\":\n",
    "\n",
    "    path_A = \"DomainAcopy\"\n",
    "    path_B = \"DomainBcopy\"\n",
    "\n",
    "\n",
    "    print(f\"Domain A files: {len(glob.glob(path_A+'/**/*', recursive=True))}\")\n",
    "    print(f\"Domain B files: {len(glob.glob(path_B+'/**/*', recursive=True))}\")\n",
    "\n",
    "    transform = transforms.Compose([\n",
    "        transforms.Resize((256, 256)),\n",
    "        transforms.ToTensor(),  \n",
    "        transforms.Normalize([0.5], [0.5]) \n",
    "    ])\n",
    "\n",
    "    full_dataset = Ultrasounddataset(path_A, path_B, transform=transform)\n",
    "    total = len(full_dataset)\n",
    "    print(f\"Total matched pairs: {total}\")\n",
    "\n",
    "    val_size  = int(0.1 * total)\n",
    "    test_size = int(0.1 * total)\n",
    "    train_size = total - val_size - test_size\n",
    "    train_ds, val_ds, test_ds = random_split(\n",
    "        full_dataset,\n",
    "        [train_size, val_size, test_size],\n",
    "        generator=torch.Generator().manual_seed(42)\n",
    "    )\n",
    "    print(f\"Train: {len(train_ds)}, Val: {len(val_ds)}, Test: {len(test_ds)}\")\n",
    "\n",
    "    batch_size = 8\n",
    "    train_loader = DataLoader(train_ds,  batch_size=batch_size, shuffle=True,  num_workers=4, pin_memory=True)\n",
    "    val_loader   = DataLoader(val_ds,    batch_size=batch_size, shuffle=False, num_workers=4, pin_memory=True)\n",
    "    test_loader  = DataLoader(test_ds,   batch_size=batch_size, shuffle=False, num_workers=4, pin_memory=True)\n",
    "\n",
    "\n",
    "    batch = next(iter(train_loader))\n",
    "    print(\"Train A batch shapes:\", batch[\"A\"].shape, batch[\"B\"].shape)\n",
    "\n"
   ]
  },
  {
   "cell_type": "code",
   "execution_count": null,
   "id": "7e526804",
   "metadata": {},
   "outputs": [
    {
     "name": "stderr",
     "output_type": "stream",
     "text": [
      "                                                                                                                                       \r"
     ]
    },
    {
     "name": "stdout",
     "output_type": "stream",
     "text": [
      "=> Epoch 1: Avg Loss_G: 15.1115, Avg Loss_D: 0.1224\n"
     ]
    },
    {
     "name": "stderr",
     "output_type": "stream",
     "text": [
      "                                                                                                                                       \r"
     ]
    },
    {
     "name": "stdout",
     "output_type": "stream",
     "text": [
      "=> Epoch 2: Avg Loss_G: 10.2924, Avg Loss_D: 0.0635\n"
     ]
    },
    {
     "name": "stderr",
     "output_type": "stream",
     "text": [
      "                                                                                                                                       \r"
     ]
    },
    {
     "name": "stdout",
     "output_type": "stream",
     "text": [
      "=> Epoch 3: Avg Loss_G: 9.1708, Avg Loss_D: 0.1327\n"
     ]
    },
    {
     "name": "stderr",
     "output_type": "stream",
     "text": [
      "                                                                                                                                       \r"
     ]
    },
    {
     "name": "stdout",
     "output_type": "stream",
     "text": [
      "=> Epoch 4: Avg Loss_G: 9.1095, Avg Loss_D: 0.1063\n"
     ]
    },
    {
     "name": "stderr",
     "output_type": "stream",
     "text": [
      "                                                                                                                                       \r"
     ]
    },
    {
     "name": "stdout",
     "output_type": "stream",
     "text": [
      "=> Epoch 5: Avg Loss_G: 8.9850, Avg Loss_D: 0.1104\n"
     ]
    },
    {
     "name": "stderr",
     "output_type": "stream",
     "text": [
      "                                                                                                                                       \r"
     ]
    },
    {
     "name": "stdout",
     "output_type": "stream",
     "text": [
      "=> Epoch 6: Avg Loss_G: 8.7903, Avg Loss_D: 0.0949\n"
     ]
    },
    {
     "name": "stderr",
     "output_type": "stream",
     "text": [
      "                                                                                                                                       \r"
     ]
    },
    {
     "name": "stdout",
     "output_type": "stream",
     "text": [
      "=> Epoch 7: Avg Loss_G: 8.7968, Avg Loss_D: 0.1109\n"
     ]
    },
    {
     "name": "stderr",
     "output_type": "stream",
     "text": [
      "                                                                                                                                       \r"
     ]
    },
    {
     "name": "stdout",
     "output_type": "stream",
     "text": [
      "=> Epoch 8: Avg Loss_G: 8.4873, Avg Loss_D: 0.1256\n"
     ]
    },
    {
     "name": "stderr",
     "output_type": "stream",
     "text": [
      "                                                                                                                                       \r"
     ]
    },
    {
     "name": "stdout",
     "output_type": "stream",
     "text": [
      "=> Epoch 9: Avg Loss_G: 8.1361, Avg Loss_D: 0.1147\n"
     ]
    },
    {
     "name": "stderr",
     "output_type": "stream",
     "text": [
      "                                                                                                                                       \r"
     ]
    },
    {
     "name": "stdout",
     "output_type": "stream",
     "text": [
      "=> Epoch 10: Avg Loss_G: 8.0447, Avg Loss_D: 0.0996\n"
     ]
    },
    {
     "name": "stderr",
     "output_type": "stream",
     "text": [
      "                                                                                                                                       \r"
     ]
    },
    {
     "name": "stdout",
     "output_type": "stream",
     "text": [
      "=> Epoch 11: Avg Loss_G: 7.8062, Avg Loss_D: 0.1113\n"
     ]
    },
    {
     "name": "stderr",
     "output_type": "stream",
     "text": [
      "                                                                                                                                       \r"
     ]
    },
    {
     "name": "stdout",
     "output_type": "stream",
     "text": [
      "=> Epoch 12: Avg Loss_G: 7.6858, Avg Loss_D: 0.1039\n"
     ]
    },
    {
     "name": "stderr",
     "output_type": "stream",
     "text": [
      "                                                                                                                                       \r"
     ]
    },
    {
     "name": "stdout",
     "output_type": "stream",
     "text": [
      "=> Epoch 13: Avg Loss_G: 7.5394, Avg Loss_D: 0.0883\n"
     ]
    },
    {
     "name": "stderr",
     "output_type": "stream",
     "text": [
      "                                                                                                                                       \r"
     ]
    },
    {
     "name": "stdout",
     "output_type": "stream",
     "text": [
      "=> Epoch 14: Avg Loss_G: 7.3009, Avg Loss_D: 0.1050\n"
     ]
    },
    {
     "name": "stderr",
     "output_type": "stream",
     "text": [
      "                                                                                                                                       \r"
     ]
    },
    {
     "name": "stdout",
     "output_type": "stream",
     "text": [
      "=> Epoch 15: Avg Loss_G: 7.1090, Avg Loss_D: 0.1080\n"
     ]
    },
    {
     "name": "stderr",
     "output_type": "stream",
     "text": [
      "                                                                                                                                       \r"
     ]
    },
    {
     "name": "stdout",
     "output_type": "stream",
     "text": [
      "=> Epoch 16: Avg Loss_G: 6.8455, Avg Loss_D: 0.1103\n"
     ]
    },
    {
     "name": "stderr",
     "output_type": "stream",
     "text": [
      "                                                                                                                                       \r"
     ]
    },
    {
     "name": "stdout",
     "output_type": "stream",
     "text": [
      "=> Epoch 17: Avg Loss_G: 6.6076, Avg Loss_D: 0.1090\n"
     ]
    },
    {
     "name": "stderr",
     "output_type": "stream",
     "text": [
      "                                                                                                                                       \r"
     ]
    },
    {
     "name": "stdout",
     "output_type": "stream",
     "text": [
      "=> Epoch 18: Avg Loss_G: 6.3693, Avg Loss_D: 0.1464\n"
     ]
    },
    {
     "name": "stderr",
     "output_type": "stream",
     "text": [
      "                                                                                                                                       \r"
     ]
    },
    {
     "name": "stdout",
     "output_type": "stream",
     "text": [
      "=> Epoch 19: Avg Loss_G: 6.2028, Avg Loss_D: 0.1603\n"
     ]
    },
    {
     "name": "stderr",
     "output_type": "stream",
     "text": [
      "                                                                                                                                       \r"
     ]
    },
    {
     "name": "stdout",
     "output_type": "stream",
     "text": [
      "=> Epoch 20: Avg Loss_G: 5.9324, Avg Loss_D: 0.1708\n"
     ]
    },
    {
     "name": "stderr",
     "output_type": "stream",
     "text": [
      "                                                                                                                                       \r"
     ]
    },
    {
     "name": "stdout",
     "output_type": "stream",
     "text": [
      "=> Epoch 21: Avg Loss_G: 5.7035, Avg Loss_D: 0.1877\n"
     ]
    },
    {
     "name": "stderr",
     "output_type": "stream",
     "text": [
      "                                                                                                                                       \r"
     ]
    },
    {
     "name": "stdout",
     "output_type": "stream",
     "text": [
      "=> Epoch 22: Avg Loss_G: 5.5029, Avg Loss_D: 0.1901\n"
     ]
    },
    {
     "name": "stderr",
     "output_type": "stream",
     "text": [
      "                                                                                                                                       \r"
     ]
    },
    {
     "name": "stdout",
     "output_type": "stream",
     "text": [
      "=> Epoch 23: Avg Loss_G: 5.3390, Avg Loss_D: 0.1964\n"
     ]
    },
    {
     "name": "stderr",
     "output_type": "stream",
     "text": [
      "                                                                                                                                       \r"
     ]
    },
    {
     "name": "stdout",
     "output_type": "stream",
     "text": [
      "=> Epoch 24: Avg Loss_G: 5.1184, Avg Loss_D: 0.1867\n"
     ]
    },
    {
     "name": "stderr",
     "output_type": "stream",
     "text": [
      "                                                                                                                                       \r"
     ]
    },
    {
     "name": "stdout",
     "output_type": "stream",
     "text": [
      "=> Epoch 25: Avg Loss_G: 5.0583, Avg Loss_D: 0.1897\n"
     ]
    },
    {
     "name": "stderr",
     "output_type": "stream",
     "text": [
      "                                                                                                                                       \r"
     ]
    },
    {
     "name": "stdout",
     "output_type": "stream",
     "text": [
      "=> Epoch 26: Avg Loss_G: 4.8938, Avg Loss_D: 0.1958\n"
     ]
    },
    {
     "name": "stderr",
     "output_type": "stream",
     "text": [
      "                                                                                                                                       \r"
     ]
    },
    {
     "name": "stdout",
     "output_type": "stream",
     "text": [
      "=> Epoch 27: Avg Loss_G: 4.8144, Avg Loss_D: 0.1991\n"
     ]
    },
    {
     "name": "stderr",
     "output_type": "stream",
     "text": [
      "                                                                                                                                       \r"
     ]
    },
    {
     "name": "stdout",
     "output_type": "stream",
     "text": [
      "=> Epoch 28: Avg Loss_G: 4.6466, Avg Loss_D: 0.1920\n"
     ]
    },
    {
     "name": "stderr",
     "output_type": "stream",
     "text": [
      "                                                                                                                                       \r"
     ]
    },
    {
     "name": "stdout",
     "output_type": "stream",
     "text": [
      "=> Epoch 29: Avg Loss_G: 4.6083, Avg Loss_D: 0.1782\n"
     ]
    },
    {
     "name": "stderr",
     "output_type": "stream",
     "text": [
      "                                                                                                                                       \r"
     ]
    },
    {
     "name": "stdout",
     "output_type": "stream",
     "text": [
      "=> Epoch 30: Avg Loss_G: 4.4401, Avg Loss_D: 0.1980\n"
     ]
    },
    {
     "name": "stderr",
     "output_type": "stream",
     "text": [
      "                                                                                                                                       \r"
     ]
    },
    {
     "name": "stdout",
     "output_type": "stream",
     "text": [
      "=> Epoch 31: Avg Loss_G: 4.3763, Avg Loss_D: 0.1885\n"
     ]
    },
    {
     "name": "stderr",
     "output_type": "stream",
     "text": [
      "                                                                                                                                       \r"
     ]
    },
    {
     "name": "stdout",
     "output_type": "stream",
     "text": [
      "=> Epoch 32: Avg Loss_G: 4.1703, Avg Loss_D: 0.2043\n"
     ]
    },
    {
     "name": "stderr",
     "output_type": "stream",
     "text": [
      "                                                                                                                                       \r"
     ]
    },
    {
     "name": "stdout",
     "output_type": "stream",
     "text": [
      "=> Epoch 33: Avg Loss_G: 4.0734, Avg Loss_D: 0.2017\n"
     ]
    },
    {
     "name": "stderr",
     "output_type": "stream",
     "text": [
      "                                                                                                                                       \r"
     ]
    },
    {
     "name": "stdout",
     "output_type": "stream",
     "text": [
      "=> Epoch 34: Avg Loss_G: 3.9383, Avg Loss_D: 0.2222\n"
     ]
    },
    {
     "name": "stderr",
     "output_type": "stream",
     "text": [
      "                                                                                                                                       \r"
     ]
    },
    {
     "name": "stdout",
     "output_type": "stream",
     "text": [
      "=> Epoch 35: Avg Loss_G: 3.8956, Avg Loss_D: 0.2026\n"
     ]
    },
    {
     "name": "stderr",
     "output_type": "stream",
     "text": [
      "                                                                                                                                       \r"
     ]
    },
    {
     "name": "stdout",
     "output_type": "stream",
     "text": [
      "=> Epoch 36: Avg Loss_G: 3.8194, Avg Loss_D: 0.2063\n"
     ]
    },
    {
     "name": "stderr",
     "output_type": "stream",
     "text": [
      "                                                                                                                                       \r"
     ]
    },
    {
     "name": "stdout",
     "output_type": "stream",
     "text": [
      "=> Epoch 37: Avg Loss_G: 3.6458, Avg Loss_D: 0.2221\n"
     ]
    },
    {
     "name": "stderr",
     "output_type": "stream",
     "text": [
      "                                                                                                                                       \r"
     ]
    },
    {
     "name": "stdout",
     "output_type": "stream",
     "text": [
      "=> Epoch 38: Avg Loss_G: 3.5214, Avg Loss_D: 0.2158\n"
     ]
    },
    {
     "name": "stderr",
     "output_type": "stream",
     "text": [
      "                                                                                                                                       \r"
     ]
    },
    {
     "name": "stdout",
     "output_type": "stream",
     "text": [
      "=> Epoch 39: Avg Loss_G: 3.5168, Avg Loss_D: 0.2061\n"
     ]
    },
    {
     "name": "stderr",
     "output_type": "stream",
     "text": [
      "                                                                                                                                       \r"
     ]
    },
    {
     "name": "stdout",
     "output_type": "stream",
     "text": [
      "=> Epoch 40: Avg Loss_G: 3.4223, Avg Loss_D: 0.2256\n"
     ]
    },
    {
     "name": "stderr",
     "output_type": "stream",
     "text": [
      "                                                                                                                                       \r"
     ]
    },
    {
     "name": "stdout",
     "output_type": "stream",
     "text": [
      "=> Epoch 41: Avg Loss_G: 3.4199, Avg Loss_D: 0.2142\n"
     ]
    },
    {
     "name": "stderr",
     "output_type": "stream",
     "text": [
      "                                                                                                                                       \r"
     ]
    },
    {
     "name": "stdout",
     "output_type": "stream",
     "text": [
      "=> Epoch 42: Avg Loss_G: 3.3978, Avg Loss_D: 0.2133\n"
     ]
    },
    {
     "name": "stderr",
     "output_type": "stream",
     "text": [
      "                                                                                                                                       \r"
     ]
    },
    {
     "name": "stdout",
     "output_type": "stream",
     "text": [
      "=> Epoch 43: Avg Loss_G: 3.2698, Avg Loss_D: 0.2071\n"
     ]
    },
    {
     "name": "stderr",
     "output_type": "stream",
     "text": [
      "                                                                                                                                       \r"
     ]
    },
    {
     "name": "stdout",
     "output_type": "stream",
     "text": [
      "=> Epoch 44: Avg Loss_G: 3.2100, Avg Loss_D: 0.2148\n"
     ]
    },
    {
     "name": "stderr",
     "output_type": "stream",
     "text": [
      "                                                                                                                                       \r"
     ]
    },
    {
     "name": "stdout",
     "output_type": "stream",
     "text": [
      "=> Epoch 45: Avg Loss_G: 3.1107, Avg Loss_D: 0.2191\n"
     ]
    },
    {
     "name": "stderr",
     "output_type": "stream",
     "text": [
      "                                                                                                                                       \r"
     ]
    },
    {
     "name": "stdout",
     "output_type": "stream",
     "text": [
      "=> Epoch 46: Avg Loss_G: 3.0851, Avg Loss_D: 0.2091\n"
     ]
    },
    {
     "name": "stderr",
     "output_type": "stream",
     "text": [
      "                                                                                                                                       \r"
     ]
    },
    {
     "name": "stdout",
     "output_type": "stream",
     "text": [
      "=> Epoch 47: Avg Loss_G: 3.0558, Avg Loss_D: 0.1994\n"
     ]
    },
    {
     "name": "stderr",
     "output_type": "stream",
     "text": [
      "                                                                                                                                       \r"
     ]
    },
    {
     "name": "stdout",
     "output_type": "stream",
     "text": [
      "=> Epoch 48: Avg Loss_G: 2.9989, Avg Loss_D: 0.2105\n"
     ]
    },
    {
     "name": "stderr",
     "output_type": "stream",
     "text": [
      "                                                                                                                                       \r"
     ]
    },
    {
     "name": "stdout",
     "output_type": "stream",
     "text": [
      "=> Epoch 49: Avg Loss_G: 3.0104, Avg Loss_D: 0.1939\n"
     ]
    },
    {
     "name": "stderr",
     "output_type": "stream",
     "text": [
      "                                                                                                                                       \r"
     ]
    },
    {
     "name": "stdout",
     "output_type": "stream",
     "text": [
      "=> Epoch 50: Avg Loss_G: 2.9855, Avg Loss_D: 0.1920\n"
     ]
    },
    {
     "name": "stderr",
     "output_type": "stream",
     "text": [
      "                                                                                                                                       \r"
     ]
    },
    {
     "name": "stdout",
     "output_type": "stream",
     "text": [
      "=> Epoch 51: Avg Loss_G: 2.9120, Avg Loss_D: 0.1915\n"
     ]
    },
    {
     "name": "stderr",
     "output_type": "stream",
     "text": [
      "                                                                                                                                       \r"
     ]
    },
    {
     "name": "stdout",
     "output_type": "stream",
     "text": [
      "=> Epoch 52: Avg Loss_G: 2.9405, Avg Loss_D: 0.1922\n"
     ]
    },
    {
     "name": "stderr",
     "output_type": "stream",
     "text": [
      "                                                                                                                                       \r"
     ]
    },
    {
     "name": "stdout",
     "output_type": "stream",
     "text": [
      "=> Epoch 53: Avg Loss_G: 2.8678, Avg Loss_D: 0.1917\n"
     ]
    },
    {
     "name": "stderr",
     "output_type": "stream",
     "text": [
      "                                                                                                                                       \r"
     ]
    },
    {
     "name": "stdout",
     "output_type": "stream",
     "text": [
      "=> Epoch 54: Avg Loss_G: 2.8099, Avg Loss_D: 0.1898\n"
     ]
    },
    {
     "name": "stderr",
     "output_type": "stream",
     "text": [
      "                                                                                                                                       \r"
     ]
    },
    {
     "name": "stdout",
     "output_type": "stream",
     "text": [
      "=> Epoch 55: Avg Loss_G: 2.8130, Avg Loss_D: 0.2034\n"
     ]
    },
    {
     "name": "stderr",
     "output_type": "stream",
     "text": [
      "                                                                                                                                       \r"
     ]
    },
    {
     "name": "stdout",
     "output_type": "stream",
     "text": [
      "=> Epoch 56: Avg Loss_G: 2.8092, Avg Loss_D: 0.1653\n"
     ]
    },
    {
     "name": "stderr",
     "output_type": "stream",
     "text": [
      "                                                                                                                                       \r"
     ]
    },
    {
     "name": "stdout",
     "output_type": "stream",
     "text": [
      "=> Epoch 57: Avg Loss_G: 2.7756, Avg Loss_D: 0.1747\n"
     ]
    },
    {
     "name": "stderr",
     "output_type": "stream",
     "text": [
      "                                                                                                                                       \r"
     ]
    },
    {
     "name": "stdout",
     "output_type": "stream",
     "text": [
      "=> Epoch 58: Avg Loss_G: 2.7909, Avg Loss_D: 0.1813\n"
     ]
    },
    {
     "name": "stderr",
     "output_type": "stream",
     "text": [
      "                                                                                                                                       \r"
     ]
    },
    {
     "name": "stdout",
     "output_type": "stream",
     "text": [
      "=> Epoch 59: Avg Loss_G: 2.7461, Avg Loss_D: 0.1804\n"
     ]
    },
    {
     "name": "stderr",
     "output_type": "stream",
     "text": [
      "                                                                                                                                       \r"
     ]
    },
    {
     "name": "stdout",
     "output_type": "stream",
     "text": [
      "=> Epoch 60: Avg Loss_G: 2.7254, Avg Loss_D: 0.1696\n"
     ]
    },
    {
     "name": "stderr",
     "output_type": "stream",
     "text": [
      "                                                                                                                                       \r"
     ]
    },
    {
     "name": "stdout",
     "output_type": "stream",
     "text": [
      "=> Epoch 61: Avg Loss_G: 2.7107, Avg Loss_D: 0.1748\n"
     ]
    },
    {
     "name": "stderr",
     "output_type": "stream",
     "text": [
      "                                                                                                                                       \r"
     ]
    },
    {
     "name": "stdout",
     "output_type": "stream",
     "text": [
      "=> Epoch 62: Avg Loss_G: 2.7256, Avg Loss_D: 0.1661\n"
     ]
    },
    {
     "name": "stderr",
     "output_type": "stream",
     "text": [
      "                                                                                                                                       \r"
     ]
    },
    {
     "name": "stdout",
     "output_type": "stream",
     "text": [
      "=> Epoch 63: Avg Loss_G: 2.6836, Avg Loss_D: 0.1475\n"
     ]
    },
    {
     "name": "stderr",
     "output_type": "stream",
     "text": [
      "                                                                                                                                       \r"
     ]
    },
    {
     "name": "stdout",
     "output_type": "stream",
     "text": [
      "=> Epoch 64: Avg Loss_G: 2.5826, Avg Loss_D: 0.1753\n"
     ]
    },
    {
     "name": "stderr",
     "output_type": "stream",
     "text": [
      "                                                                                                                                       \r"
     ]
    },
    {
     "name": "stdout",
     "output_type": "stream",
     "text": [
      "=> Epoch 65: Avg Loss_G: 2.7066, Avg Loss_D: 0.1444\n"
     ]
    },
    {
     "name": "stderr",
     "output_type": "stream",
     "text": [
      "                                                                                                                                       \r"
     ]
    },
    {
     "name": "stdout",
     "output_type": "stream",
     "text": [
      "=> Epoch 66: Avg Loss_G: 2.5948, Avg Loss_D: 0.1650\n"
     ]
    },
    {
     "name": "stderr",
     "output_type": "stream",
     "text": [
      "                                                                                                                                       \r"
     ]
    },
    {
     "name": "stdout",
     "output_type": "stream",
     "text": [
      "=> Epoch 67: Avg Loss_G: 2.5423, Avg Loss_D: 0.1692\n"
     ]
    },
    {
     "name": "stderr",
     "output_type": "stream",
     "text": [
      "                                                                                                                                       \r"
     ]
    },
    {
     "name": "stdout",
     "output_type": "stream",
     "text": [
      "=> Epoch 68: Avg Loss_G: 2.5569, Avg Loss_D: 0.1533\n"
     ]
    },
    {
     "name": "stderr",
     "output_type": "stream",
     "text": [
      "                                                                                                                                       \r"
     ]
    },
    {
     "name": "stdout",
     "output_type": "stream",
     "text": [
      "=> Epoch 69: Avg Loss_G: 2.5749, Avg Loss_D: 0.1650\n"
     ]
    },
    {
     "name": "stderr",
     "output_type": "stream",
     "text": [
      "                                                                                                                                       \r"
     ]
    },
    {
     "name": "stdout",
     "output_type": "stream",
     "text": [
      "=> Epoch 70: Avg Loss_G: 2.4190, Avg Loss_D: 0.1908\n"
     ]
    },
    {
     "name": "stderr",
     "output_type": "stream",
     "text": [
      "                                                                                                                                       \r"
     ]
    },
    {
     "name": "stdout",
     "output_type": "stream",
     "text": [
      "=> Epoch 71: Avg Loss_G: 2.4677, Avg Loss_D: 0.1741\n"
     ]
    },
    {
     "name": "stderr",
     "output_type": "stream",
     "text": [
      "                                                                                                                                       \r"
     ]
    },
    {
     "name": "stdout",
     "output_type": "stream",
     "text": [
      "=> Epoch 72: Avg Loss_G: 2.4946, Avg Loss_D: 0.1579\n"
     ]
    },
    {
     "name": "stderr",
     "output_type": "stream",
     "text": [
      "                                                                                                                                       \r"
     ]
    },
    {
     "name": "stdout",
     "output_type": "stream",
     "text": [
      "=> Epoch 73: Avg Loss_G: 2.5141, Avg Loss_D: 0.1392\n"
     ]
    },
    {
     "name": "stderr",
     "output_type": "stream",
     "text": [
      "                                                                                                                                       \r"
     ]
    },
    {
     "name": "stdout",
     "output_type": "stream",
     "text": [
      "=> Epoch 74: Avg Loss_G: 2.4460, Avg Loss_D: 0.1822\n"
     ]
    },
    {
     "name": "stderr",
     "output_type": "stream",
     "text": [
      "                                                                                                                                       \r"
     ]
    },
    {
     "name": "stdout",
     "output_type": "stream",
     "text": [
      "=> Epoch 75: Avg Loss_G: 2.5389, Avg Loss_D: 0.1868\n"
     ]
    },
    {
     "name": "stderr",
     "output_type": "stream",
     "text": [
      "                                                                                                                                       \r"
     ]
    },
    {
     "name": "stdout",
     "output_type": "stream",
     "text": [
      "=> Epoch 76: Avg Loss_G: 2.4991, Avg Loss_D: 0.1649\n"
     ]
    },
    {
     "name": "stderr",
     "output_type": "stream",
     "text": [
      "                                                                                                                                       \r"
     ]
    },
    {
     "name": "stdout",
     "output_type": "stream",
     "text": [
      "=> Epoch 77: Avg Loss_G: 2.4769, Avg Loss_D: 0.1532\n"
     ]
    },
    {
     "name": "stderr",
     "output_type": "stream",
     "text": [
      "                                                                                                                                       \r"
     ]
    },
    {
     "name": "stdout",
     "output_type": "stream",
     "text": [
      "=> Epoch 78: Avg Loss_G: 2.3742, Avg Loss_D: 0.1787\n"
     ]
    },
    {
     "name": "stderr",
     "output_type": "stream",
     "text": [
      "                                                                                                                                       \r"
     ]
    },
    {
     "name": "stdout",
     "output_type": "stream",
     "text": [
      "=> Epoch 79: Avg Loss_G: 2.2766, Avg Loss_D: 0.2014\n"
     ]
    },
    {
     "name": "stderr",
     "output_type": "stream",
     "text": [
      "                                                                                                                                       \r"
     ]
    },
    {
     "name": "stdout",
     "output_type": "stream",
     "text": [
      "=> Epoch 80: Avg Loss_G: 2.2836, Avg Loss_D: 0.1900\n"
     ]
    },
    {
     "name": "stderr",
     "output_type": "stream",
     "text": [
      "                                                                                                                                       \r"
     ]
    },
    {
     "name": "stdout",
     "output_type": "stream",
     "text": [
      "=> Epoch 81: Avg Loss_G: 2.3514, Avg Loss_D: 0.1543\n"
     ]
    },
    {
     "name": "stderr",
     "output_type": "stream",
     "text": [
      "                                                                                                                                       \r"
     ]
    },
    {
     "name": "stdout",
     "output_type": "stream",
     "text": [
      "=> Epoch 82: Avg Loss_G: 2.3628, Avg Loss_D: 0.1538\n"
     ]
    },
    {
     "name": "stderr",
     "output_type": "stream",
     "text": [
      "                                                                                                                                       \r"
     ]
    },
    {
     "name": "stdout",
     "output_type": "stream",
     "text": [
      "=> Epoch 83: Avg Loss_G: 2.3644, Avg Loss_D: 0.1411\n"
     ]
    },
    {
     "name": "stderr",
     "output_type": "stream",
     "text": [
      "                                                                                                                                       \r"
     ]
    },
    {
     "name": "stdout",
     "output_type": "stream",
     "text": [
      "=> Epoch 84: Avg Loss_G: 2.3592, Avg Loss_D: 0.1394\n"
     ]
    },
    {
     "name": "stderr",
     "output_type": "stream",
     "text": [
      "                                                                                                                                       \r"
     ]
    },
    {
     "name": "stdout",
     "output_type": "stream",
     "text": [
      "=> Epoch 85: Avg Loss_G: 2.3427, Avg Loss_D: 0.1482\n"
     ]
    },
    {
     "name": "stderr",
     "output_type": "stream",
     "text": [
      "                                                                                                                                       \r"
     ]
    },
    {
     "name": "stdout",
     "output_type": "stream",
     "text": [
      "=> Epoch 86: Avg Loss_G: 2.3186, Avg Loss_D: 0.1386\n"
     ]
    },
    {
     "name": "stderr",
     "output_type": "stream",
     "text": [
      "                                                                                                                                       \r"
     ]
    },
    {
     "name": "stdout",
     "output_type": "stream",
     "text": [
      "=> Epoch 87: Avg Loss_G: 2.2550, Avg Loss_D: 0.1549\n"
     ]
    },
    {
     "name": "stderr",
     "output_type": "stream",
     "text": [
      "                                                                                                                                       \r"
     ]
    },
    {
     "name": "stdout",
     "output_type": "stream",
     "text": [
      "=> Epoch 88: Avg Loss_G: 2.3686, Avg Loss_D: 0.1312\n"
     ]
    },
    {
     "name": "stderr",
     "output_type": "stream",
     "text": [
      "                                                                                                                                       \r"
     ]
    },
    {
     "name": "stdout",
     "output_type": "stream",
     "text": [
      "=> Epoch 89: Avg Loss_G: 2.3066, Avg Loss_D: 0.1426\n"
     ]
    },
    {
     "name": "stderr",
     "output_type": "stream",
     "text": [
      "                                                                                                                                       \r"
     ]
    },
    {
     "name": "stdout",
     "output_type": "stream",
     "text": [
      "=> Epoch 90: Avg Loss_G: 2.1860, Avg Loss_D: 0.1768\n"
     ]
    },
    {
     "name": "stderr",
     "output_type": "stream",
     "text": [
      "                                                                                                                                       \r"
     ]
    },
    {
     "name": "stdout",
     "output_type": "stream",
     "text": [
      "=> Epoch 91: Avg Loss_G: 2.2915, Avg Loss_D: 0.1530\n"
     ]
    },
    {
     "name": "stderr",
     "output_type": "stream",
     "text": [
      "                                                                                                                                       \r"
     ]
    },
    {
     "name": "stdout",
     "output_type": "stream",
     "text": [
      "=> Epoch 92: Avg Loss_G: 2.1842, Avg Loss_D: 0.1562\n"
     ]
    },
    {
     "name": "stderr",
     "output_type": "stream",
     "text": [
      "                                                                                                                                       \r"
     ]
    },
    {
     "name": "stdout",
     "output_type": "stream",
     "text": [
      "=> Epoch 93: Avg Loss_G: 2.3175, Avg Loss_D: 0.1168\n"
     ]
    },
    {
     "name": "stderr",
     "output_type": "stream",
     "text": [
      "                                                                                                                                       \r"
     ]
    },
    {
     "name": "stdout",
     "output_type": "stream",
     "text": [
      "=> Epoch 94: Avg Loss_G: 2.2771, Avg Loss_D: 0.1332\n"
     ]
    },
    {
     "name": "stderr",
     "output_type": "stream",
     "text": [
      "                                                                                                                                       \r"
     ]
    },
    {
     "name": "stdout",
     "output_type": "stream",
     "text": [
      "=> Epoch 95: Avg Loss_G: 2.1953, Avg Loss_D: 0.1595\n"
     ]
    },
    {
     "name": "stderr",
     "output_type": "stream",
     "text": [
      "                                                                                                                                       \r"
     ]
    },
    {
     "name": "stdout",
     "output_type": "stream",
     "text": [
      "=> Epoch 96: Avg Loss_G: 2.2625, Avg Loss_D: 0.1363\n"
     ]
    },
    {
     "name": "stderr",
     "output_type": "stream",
     "text": [
      "                                                                                                                                       \r"
     ]
    },
    {
     "name": "stdout",
     "output_type": "stream",
     "text": [
      "=> Epoch 97: Avg Loss_G: 2.1563, Avg Loss_D: 0.1882\n"
     ]
    },
    {
     "name": "stderr",
     "output_type": "stream",
     "text": [
      "                                                                                                                                       \r"
     ]
    },
    {
     "name": "stdout",
     "output_type": "stream",
     "text": [
      "=> Epoch 98: Avg Loss_G: 1.8688, Avg Loss_D: 0.2371\n"
     ]
    },
    {
     "name": "stderr",
     "output_type": "stream",
     "text": [
      "                                                                                                                                       \r"
     ]
    },
    {
     "name": "stdout",
     "output_type": "stream",
     "text": [
      "=> Epoch 99: Avg Loss_G: 2.0334, Avg Loss_D: 0.1858\n"
     ]
    },
    {
     "name": "stderr",
     "output_type": "stream",
     "text": [
      "                                                                                                                                       \r"
     ]
    },
    {
     "name": "stdout",
     "output_type": "stream",
     "text": [
      "=> Epoch 100: Avg Loss_G: 2.2061, Avg Loss_D: 0.1205\n"
     ]
    },
    {
     "data": {
      "image/png": "[encoded data removed]",
      "text/plain": [
       "<Figure size 800x400 with 1 Axes>"
      ]
     },
     "metadata": {},
     "output_type": "display_data"
    }
   ],
   "source": [
    "import torch\n",
    "import torch.nn as nn\n",
    "import torch.optim as optim\n",
    "import matplotlib.pyplot as plt\n",
    "\n",
    "\n",
    "def down_block(in_c, out_c, norm=True):\n",
    "    layers = [nn.Conv2d(in_c, out_c, 4, 2, 1, bias=False)]\n",
    "    if norm:\n",
    "        layers.append(nn.BatchNorm2d(out_c))\n",
    "    layers.append(nn.LeakyReLU(0.2, inplace=True))\n",
    "    return nn.Sequential(*layers)\n",
    "\n",
    "def up_block(in_c, out_c, dropout=0.0):\n",
    "    layers = [\n",
    "        nn.ConvTranspose2d(in_c, out_c, 4, 2, 1, bias=False),\n",
    "        nn.BatchNorm2d(out_c),\n",
    "        nn.ReLU(inplace=True)\n",
    "    ]\n",
    "    if dropout:\n",
    "        layers.append(nn.Dropout(dropout))\n",
    "    return nn.Sequential(*layers)\n",
    "\n",
    "class UNetGenerator(nn.Module):\n",
    "    def __init__(self, in_ch=1, out_ch=1):\n",
    "        super().__init__()\n",
    "        self.downs = nn.ModuleList([\n",
    "            down_block(in_ch, 64, norm=False), down_block(64,128),\n",
    "            down_block(128,256), down_block(256,512), down_block(512,512),\n",
    "            down_block(512,512), down_block(512,512), down_block(512,512)\n",
    "        ])\n",
    "        self.ups = nn.ModuleList([\n",
    "            up_block(512,512,0.5), up_block(1024,512,0.5), up_block(1024,512,0.5),\n",
    "            up_block(1024,512), up_block(1024,256), up_block(512,128), up_block(256,64)\n",
    "        ])\n",
    "        self.final = nn.Sequential(nn.ConvTranspose2d(128,out_ch,4,2,1), nn.Tanh())\n",
    "\n",
    "    def forward(self, x):\n",
    "        skips = []\n",
    "        for d in self.downs:\n",
    "            x = d(x)\n",
    "            skips.append(x)\n",
    "        skips = skips[::-1]\n",
    "        for i, u in enumerate(self.ups):\n",
    "            x = u(x)\n",
    "            x = torch.cat([x, skips[i+1]], dim=1)\n",
    "        return self.final(x)\n",
    "\n",
    "class PatchDiscriminator(nn.Module):\n",
    "    def __init__(self, in_ch=2):\n",
    "        super().__init__()\n",
    "        def block(ic, oc, norm=True):\n",
    "            layers = [nn.Conv2d(ic, oc, 4, 2, 1)]\n",
    "            if norm:\n",
    "                layers.append(nn.BatchNorm2d(oc))\n",
    "            layers.append(nn.LeakyReLU(0.2, inplace=True))\n",
    "            return nn.Sequential(*layers)\n",
    "        self.model = nn.Sequential(\n",
    "            block(in_ch,   32, norm=False),\n",
    "            block(32,      64),\n",
    "            block(64,     128),\n",
    "            block(128,    256),\n",
    "            nn.ZeroPad2d((1, 0, 1, 0)),\n",
    "            nn.Conv2d(256, 1, 4, 1, 1)\n",
    "        )\n",
    "\n",
    "    def forward(self, a, b):\n",
    "        x = torch.cat([a, b], dim=1)\n",
    "        return self.model(x)\n",
    "\n",
    "# ----------------------------\n",
    "# Training Setup\n",
    "# ----------------------------\n",
    "device = torch.device(\"cuda\" if torch.cuda.is_available() else \"cpu\")\n",
    "G = UNetGenerator().to(device)\n",
    "D = PatchDiscriminator().to(device)\n",
    "optG = optim.Adam(G.parameters(), lr=2e-4, betas=(0.5,0.999))\n",
    "optD = optim.Adam(D.parameters(), lr=1e-4, betas=(0.5,0.999))\n",
    "adv_criterion = nn.MSELoss()\n",
    "l1_criterion  = nn.L1Loss()\n",
    "lambda_l1     = 50\n",
    "\n",
    "epoch_G_losses, epoch_D_losses = [], []\n",
    "num_epochs = 100\n",
    "for epoch in range(1, num_epochs+1):\n",
    "    eG, eD = 0.0, 0.0\n",
    "    loop = tqdm(train_loader, desc=f\"Epoch {epoch}/{num_epochs}\", leave=False)\n",
    "    for batch in loop:\n",
    "        real_A = batch[\"A\"].to(device)\n",
    "        real_B = batch[\"B\"].to(device)\n",
    "        # Train Generator\n",
    "        optG.zero_grad()\n",
    "        fake_B = G(real_A)\n",
    "        loss_G = adv_criterion(D(fake_B, real_A), torch.ones_like(D(fake_B, real_A))) + lambda_l1 * l1_criterion(fake_B, real_B)\n",
    "        loss_G.backward()\n",
    "        optG.step()\n",
    "        # Train Discriminator\n",
    "        optD.zero_grad()\n",
    "        pred_real = D(real_B, real_A)\n",
    "        pred_fake = D(fake_B.detach(), real_A)\n",
    "        loss_D = 0.5 * (\n",
    "            adv_criterion(pred_real, torch.ones_like(pred_real)) +\n",
    "            adv_criterion(pred_fake, torch.zeros_like(pred_fake))\n",
    "        )\n",
    "        loss_D.backward()\n",
    "        optD.step()\n",
    "        eG += loss_G.item()\n",
    "        eD += loss_D.item()\n",
    "        loop.set_postfix(Loss_G=f\"{loss_G.item():.3f}\", Loss_D=f\"{loss_D.item():.3f}\")\n",
    "    avgG = eG / len(train_loader)\n",
    "    avgD = eD / len(train_loader)\n",
    "    epoch_G_losses.append(avgG)\n",
    "    epoch_D_losses.append(avgD)\n",
    "    print(f\"=> Epoch {epoch}: Avg Loss_G: {avgG:.4f}, Avg Loss_D: {avgD:.4f}\")\n",
    "\n",
    "# ----------------------------\n",
    "# Plot Loss Curves\n",
    "# ----------------------------\n",
    "plt.figure(figsize=(8,4))\n",
    "plt.plot(range(1, num_epochs+1), epoch_G_losses, label=\"Generator\")\n",
    "plt.plot(range(1, num_epochs+1), epoch_D_losses, label=\"Discriminator\")\n",
    "plt.xlabel(\"Epoch\")\n",
    "plt.ylabel(\"Avg Loss\")\n",
    "plt.legend()\n",
    "plt.title(\"Training Loss Curves\")\n",
    "plt.show()\n"
   ]
  },
  {
   "cell_type": "code",
   "execution_count": null,
   "id": "d9e8e94e",
   "metadata": {},
   "outputs": [],
   "source": []
  }
 ],
 "metadata": {
  "kernelspec": {
   "display_name": "Python 3 (ipykernel)",
   "language": "python",
   "name": "python3"
  },
  "language_info": {
   "codemirror_mode": {
    "name": "ipython",
    "version": 3
   },
   "file_extension": ".py",
   "mimetype": "text/x-python",
   "name": "python",
   "nbconvert_exporter": "python",
   "pygments_lexer": "ipython3",
   "version": "3.9.21"
  }
 },
 "nbformat": 4,
 "nbformat_minor": 5
}
